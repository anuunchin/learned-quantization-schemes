{
 "cells": [
  {
   "cell_type": "code",
   "execution_count": 16,
   "metadata": {},
   "outputs": [
    {
     "name": "stdout",
     "output_type": "stream",
     "text": [
      "y: 9.0\n",
      "dy/dx: 6.0\n"
     ]
    }
   ],
   "source": [
    "import tensorflow as tf\n",
    "\n",
    "@tf.custom_gradient\n",
    "def custom_square(x):\n",
    "    # Forward computation\n",
    "    y = x ** 2\n",
    "\n",
    "    def grad(dy):\n",
    "        # Custom gradient computation\n",
    "        return 2 * x * dy\n",
    "\n",
    "    return y, grad\n",
    "\n",
    "# Example usage\n",
    "x = tf.constant(3.0)\n",
    "with tf.GradientTape() as tape:\n",
    "    tape.watch(x)\n",
    "    y = custom_square(x)\n",
    "\n",
    "# Compute the gradient\n",
    "dy_dx = tape.gradient(y, x)\n",
    "print(\"y:\", y.numpy())  # Output: y: 9.0\n",
    "print(\"dy/dx:\", dy_dx.numpy())  # Output: dy/dx: 6.0\n"
   ]
  },
  {
   "cell_type": "code",
   "execution_count": 17,
   "metadata": {},
   "outputs": [
    {
     "name": "stdout",
     "output_type": "stream",
     "text": [
      "y_pred: 9.0\n",
      "loss: 0.0\n",
      "dL/dw: -0.0\n"
     ]
    }
   ],
   "source": [
    "import tensorflow as tf\n",
    "\n",
    "@tf.custom_gradient\n",
    "def custom_square(x):\n",
    "    # Forward computation\n",
    "    y = x ** 2\n",
    "\n",
    "    def grad(dy):\n",
    "        # Custom gradient computation\n",
    "        return 2 * x * dy\n",
    "\n",
    "    return y, grad\n",
    "\n",
    "# Define a simple model with a single parameter\n",
    "class SimpleModel(tf.Module):\n",
    "    def __init__(self):\n",
    "        self.weight = tf.Variable(1.0)\n",
    "\n",
    "    def __call__(self, x):\n",
    "        return custom_square(self.weight * x)\n",
    "\n",
    "# Define a simple loss function (Mean Squared Error)\n",
    "def loss_fn(y_true, y_pred):\n",
    "    return tf.reduce_mean((y_true - y_pred) ** 2)\n",
    "\n",
    "# Example usage\n",
    "x = tf.constant(3.0)\n",
    "y_true = tf.constant(9.0)\n",
    "\n",
    "# Instantiate the model\n",
    "model = SimpleModel()\n",
    "\n",
    "# Compute the loss\n",
    "with tf.GradientTape() as tape:\n",
    "    y_pred = model(x)\n",
    "    loss = loss_fn(y_true, y_pred)\n",
    "\n",
    "# Compute the gradient of the loss with respect to the model's weight\n",
    "grads = tape.gradient(loss, model.weight)\n",
    "print(\"y_pred:\", y_pred.numpy())  # Output: y_pred: 9.0 (or close, depending on the weight)\n",
    "print(\"loss:\", loss.numpy())  # Output: loss: 0.0 (or close, depending on the weight)\n",
    "print(\"dL/dw:\", grads.numpy())  # Gradient of the loss with respect to the weight\n"
   ]
  },
  {
   "cell_type": "code",
   "execution_count": 18,
   "metadata": {},
   "outputs": [
    {
     "name": "stdout",
     "output_type": "stream",
     "text": [
      "y_pred: 9.0\n",
      "MSE loss: 0.0\n",
      "Regularization loss: 1.0\n",
      "Total loss: 1.0\n",
      "dL/dw: -0.0\n"
     ]
    }
   ],
   "source": [
    "import tensorflow as tf\n",
    "\n",
    "@tf.custom_gradient\n",
    "def custom_square(x):\n",
    "    # Forward computation\n",
    "    y = x ** 2\n",
    "\n",
    "    def grad(dy):\n",
    "        # Custom gradient computation\n",
    "        return 2 * x * dy\n",
    "\n",
    "    return y, grad\n",
    "\n",
    "@tf.custom_gradient\n",
    "def custom_regularization(weight):\n",
    "    # Forward computation\n",
    "    reg_loss = 1.0 / weight\n",
    "\n",
    "    def grad(dy):\n",
    "        # Custom gradient for the regularization loss\n",
    "        return -1.0 / (weight ** 2) * dy\n",
    "\n",
    "    return reg_loss, grad\n",
    "\n",
    "# Define a simple model with a single parameter\n",
    "class SimpleModel(tf.Module):\n",
    "    def __init__(self):\n",
    "        self.weight = tf.Variable(1.0)\n",
    "\n",
    "    def __call__(self, x):\n",
    "        return custom_square(self.weight * x)\n",
    "\n",
    "# Define a simple loss function (Mean Squared Error)\n",
    "def mse_loss_fn(y_true, y_pred):\n",
    "    return tf.reduce_mean((y_true - y_pred) ** 2)\n",
    "\n",
    "# Example usage\n",
    "x = tf.constant(3.0)\n",
    "y_true = tf.constant(9.0)\n",
    "\n",
    "# Instantiate the model\n",
    "model = SimpleModel()\n",
    "\n",
    "# Compute the losses\n",
    "with tf.GradientTape() as tape:\n",
    "    y_pred = model(x)\n",
    "    mse_loss = mse_loss_fn(y_true, y_pred)\n",
    "    reg_loss = custom_regularization(model.weight)\n",
    "    total_loss = mse_loss + reg_loss\n",
    "\n",
    "# Compute the gradients of the total loss with respect to the model's weight\n",
    "grads = tape.gradient(mse_loss, model.weight)\n",
    "print(\"y_pred:\", y_pred.numpy())  # Output: y_pred: 9.0 (or close, depending on the weight)\n",
    "print(\"MSE loss:\", mse_loss.numpy())  # Output: MSE loss\n",
    "print(\"Regularization loss:\", reg_loss.numpy())  # Output: Regularization loss\n",
    "print(\"Total loss:\", total_loss.numpy())  # Output: Total loss\n",
    "print(\"dL/dw:\", grads.numpy())  # Gradient of the total loss with respect to the weight\n"
   ]
  },
  {
   "cell_type": "code",
   "execution_count": null,
   "metadata": {},
   "outputs": [],
   "source": []
  }
 ],
 "metadata": {
  "kernelspec": {
   "display_name": "myenv",
   "language": "python",
   "name": "python3"
  },
  "language_info": {
   "codemirror_mode": {
    "name": "ipython",
    "version": 3
   },
   "file_extension": ".py",
   "mimetype": "text/x-python",
   "name": "python",
   "nbconvert_exporter": "python",
   "pygments_lexer": "ipython3",
   "version": "3.9.6"
  }
 },
 "nbformat": 4,
 "nbformat_minor": 2
}
