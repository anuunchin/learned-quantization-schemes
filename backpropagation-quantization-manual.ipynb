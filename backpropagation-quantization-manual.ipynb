{
 "cells": [
  {
   "cell_type": "code",
   "execution_count": 14,
   "metadata": {},
   "outputs": [
    {
     "name": "stderr",
     "output_type": "stream",
     "text": [
      "WARNING:absl:At this time, the v2.11+ optimizer `tf.keras.optimizers.Adam` runs slowly on M1/M2 Macs, please use the legacy Keras optimizer instead, located at `tf.keras.optimizers.legacy.Adam`.\n"
     ]
    },
    {
     "name": "stdout",
     "output_type": "stream",
     "text": [
      "Epoch 1/5\n",
      "1875/1875 [==============================] - 4s 2ms/step - loss: 2.3034 - accuracy: 0.1046 - val_loss: 2.3022 - val_accuracy: 0.1135\n",
      "Epoch 2/5\n",
      "1875/1875 [==============================] - 4s 2ms/step - loss: 2.3016 - accuracy: 0.1124 - val_loss: 2.3012 - val_accuracy: 0.1135\n",
      "Epoch 3/5\n",
      "1875/1875 [==============================] - 4s 2ms/step - loss: 2.3014 - accuracy: 0.1124 - val_loss: 2.3011 - val_accuracy: 0.1135\n",
      "Epoch 4/5\n",
      "1875/1875 [==============================] - 4s 2ms/step - loss: 2.3013 - accuracy: 0.1124 - val_loss: 2.3012 - val_accuracy: 0.1135\n",
      "Epoch 5/5\n",
      "1875/1875 [==============================] - 4s 2ms/step - loss: 2.3014 - accuracy: 0.1124 - val_loss: 2.3010 - val_accuracy: 0.1135\n",
      "313/313 [==============================] - 0s 936us/step - loss: 2.3010 - accuracy: 0.1135\n",
      "Quantized Model Test Accuracy: 0.11349999904632568\n"
     ]
    }
   ],
   "source": [
    "import tensorflow as tf\n",
    "import numpy as np\n",
    "from tensorflow.keras.layers import Dense, Flatten, Input\n",
    "from tensorflow.keras.models import Model\n",
    "from tensorflow.keras.datasets import mnist\n",
    "\n",
    "# Load and preprocess data\n",
    "(x_train, y_train), (x_test, y_test) = mnist.load_data()\n",
    "x_train = x_train.astype('float32') / 255.0\n",
    "x_test = x_test.astype('float32') / 255.0\n",
    "x_train = np.expand_dims(x_train, -1)\n",
    "x_test = np.expand_dims(x_test, -1)\n",
    "\n",
    "class LearnedQuantizedDense(tf.keras.layers.Layer):\n",
    "    def __init__(self, units, activation=None):\n",
    "        super(LearnedQuantizedDense, self).__init__()\n",
    "        self.units = units\n",
    "        self.activation = tf.keras.activations.get(activation)\n",
    "\n",
    "    def build(self, input_shape):\n",
    "        self.w = self.add_weight(shape=(input_shape[-1], self.units),\n",
    "                         initializer='glorot_uniform',\n",
    "                         trainable=True)\n",
    "        #self.w = self.add_weight(shape=(input_shape[-1], self.units),\n",
    "        #                         initializer='random_normal',\n",
    "        #s                         trainable=True)\n",
    "        self.b = self.add_weight(shape=(self.units,),\n",
    "                                 initializer='zeros',\n",
    "                                 trainable=True)\n",
    "        self.scale = self.add_weight(shape=(1,),\n",
    "                                     initializer='ones',\n",
    "                                     trainable=True)\n",
    "        self.zero_point = self.add_weight(shape=(1,),\n",
    "                                          initializer='zeros',\n",
    "                                          trainable=True)\n",
    "\n",
    "    def call(self, inputs):\n",
    "        quantized_w = tf.stop_gradient(tf.round(self.w / self.scale + self.zero_point)) + (self.w / self.scale + self.zero_point - tf.stop_gradient(self.w / self.scale + self.zero_point))\n",
    "        dequantized_w = (quantized_w - self.zero_point) * self.scale\n",
    "        quantized_b = tf.stop_gradient(tf.round(self.b / self.scale + self.zero_point)) + (self.b / self.scale + self.zero_point - tf.stop_gradient(self.b / self.scale + self.zero_point))\n",
    "        dequantized_b = (quantized_b - self.zero_point) * self.scale\n",
    "\n",
    "        output = tf.matmul(inputs, dequantized_w) + dequantized_b\n",
    "        if self.activation is not None:\n",
    "            output = self.activation(output)\n",
    "        return output\n",
    "\n",
    "from tensorflow.keras.optimizers import Adam\n",
    "\n",
    "# Define the model with quantized layers\n",
    "input_layer = Input(shape=(28, 28, 1))\n",
    "flatten_layer = Flatten()(input_layer)\n",
    "quantized_dense_layer = LearnedQuantizedDense(128, activation='relu')(flatten_layer)\n",
    "output_layer = LearnedQuantizedDense(10, activation='softmax')(quantized_dense_layer)\n",
    "\n",
    "quantized_model = Model(inputs=input_layer, outputs=output_layer)\n",
    "\n",
    "quantized_model.compile(optimizer=Adam(learning_rate=0.001), loss='sparse_categorical_crossentropy', metrics=['accuracy'])\n",
    "\n",
    "quantized_model.fit(x_train, y_train, epochs=10, validation_data=(x_test, y_test))\n",
    "\n",
    "loss, accuracy = quantized_model.evaluate(x_test, y_test)\n",
    "print(f'Quantized Model Test Accuracy: {accuracy}')\n"
   ]
  },
  {
   "cell_type": "code",
   "execution_count": null,
   "metadata": {},
   "outputs": [],
   "source": []
  }
 ],
 "metadata": {
  "kernelspec": {
   "display_name": "myenv",
   "language": "python",
   "name": "python3"
  },
  "language_info": {
   "codemirror_mode": {
    "name": "ipython",
    "version": 3
   },
   "file_extension": ".py",
   "mimetype": "text/x-python",
   "name": "python",
   "nbconvert_exporter": "python",
   "pygments_lexer": "ipython3",
   "version": "3.9.6"
  }
 },
 "nbformat": 4,
 "nbformat_minor": 2
}
